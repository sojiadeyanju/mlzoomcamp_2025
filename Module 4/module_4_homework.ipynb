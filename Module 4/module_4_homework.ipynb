{
 "cells": [
  {
   "cell_type": "markdown",
   "id": "25213e22-6c52-445a-99c3-f68187bcf089",
   "metadata": {},
   "source": [
    "## Imports and Loads Data"
   ]
  },
  {
   "cell_type": "code",
   "execution_count": 1,
   "id": "756dd8de-3c3f-40a3-8a57-c652e0aaa780",
   "metadata": {},
   "outputs": [],
   "source": [
    "import pandas as pd\n",
    "import numpy as np\n",
    "from sklearn.model_selection import train_test_split, KFold\n",
    "from sklearn.feature_extraction import DictVectorizer\n",
    "from sklearn.linear_model import LogisticRegression\n",
    "from sklearn.metrics import roc_auc_score, precision_recall_curve, f1_score\n",
    "import matplotlib.pyplot as plt"
   ]
  },
  {
   "cell_type": "code",
   "execution_count": 15,
   "id": "428c96ea-538c-443a-bd7f-10eb1418aa49",
   "metadata": {},
   "outputs": [],
   "source": [
    "# Load the dataset\n",
    "df = pd.read_csv('course_lead_scoring.csv')"
   ]
  },
  {
   "cell_type": "code",
   "execution_count": 19,
   "id": "e0fc232f-ded7-4bd1-9ad4-86c8cbbb36e5",
   "metadata": {},
   "outputs": [
    {
     "data": {
      "text/html": [
       "<div>\n",
       "<style scoped>\n",
       "    .dataframe tbody tr th:only-of-type {\n",
       "        vertical-align: middle;\n",
       "    }\n",
       "\n",
       "    .dataframe tbody tr th {\n",
       "        vertical-align: top;\n",
       "    }\n",
       "\n",
       "    .dataframe thead th {\n",
       "        text-align: right;\n",
       "    }\n",
       "</style>\n",
       "<table border=\"1\" class=\"dataframe\">\n",
       "  <thead>\n",
       "    <tr style=\"text-align: right;\">\n",
       "      <th></th>\n",
       "      <th>lead_source</th>\n",
       "      <th>industry</th>\n",
       "      <th>number_of_courses_viewed</th>\n",
       "      <th>annual_income</th>\n",
       "      <th>employment_status</th>\n",
       "      <th>location</th>\n",
       "      <th>interaction_count</th>\n",
       "      <th>lead_score</th>\n",
       "    </tr>\n",
       "  </thead>\n",
       "  <tbody>\n",
       "    <tr>\n",
       "      <th>0</th>\n",
       "      <td>paid_ads</td>\n",
       "      <td>NaN</td>\n",
       "      <td>1</td>\n",
       "      <td>79450.0</td>\n",
       "      <td>unemployed</td>\n",
       "      <td>south_america</td>\n",
       "      <td>4</td>\n",
       "      <td>0.94</td>\n",
       "    </tr>\n",
       "    <tr>\n",
       "      <th>1</th>\n",
       "      <td>social_media</td>\n",
       "      <td>retail</td>\n",
       "      <td>1</td>\n",
       "      <td>46992.0</td>\n",
       "      <td>employed</td>\n",
       "      <td>south_america</td>\n",
       "      <td>1</td>\n",
       "      <td>0.80</td>\n",
       "    </tr>\n",
       "    <tr>\n",
       "      <th>2</th>\n",
       "      <td>events</td>\n",
       "      <td>healthcare</td>\n",
       "      <td>5</td>\n",
       "      <td>78796.0</td>\n",
       "      <td>unemployed</td>\n",
       "      <td>australia</td>\n",
       "      <td>3</td>\n",
       "      <td>0.69</td>\n",
       "    </tr>\n",
       "    <tr>\n",
       "      <th>3</th>\n",
       "      <td>paid_ads</td>\n",
       "      <td>retail</td>\n",
       "      <td>2</td>\n",
       "      <td>83843.0</td>\n",
       "      <td>NaN</td>\n",
       "      <td>australia</td>\n",
       "      <td>1</td>\n",
       "      <td>0.87</td>\n",
       "    </tr>\n",
       "    <tr>\n",
       "      <th>4</th>\n",
       "      <td>referral</td>\n",
       "      <td>education</td>\n",
       "      <td>3</td>\n",
       "      <td>85012.0</td>\n",
       "      <td>self_employed</td>\n",
       "      <td>europe</td>\n",
       "      <td>3</td>\n",
       "      <td>0.62</td>\n",
       "    </tr>\n",
       "    <tr>\n",
       "      <th>5</th>\n",
       "      <td>events</td>\n",
       "      <td>manufacturing</td>\n",
       "      <td>1</td>\n",
       "      <td>59904.0</td>\n",
       "      <td>NaN</td>\n",
       "      <td>africa</td>\n",
       "      <td>6</td>\n",
       "      <td>0.83</td>\n",
       "    </tr>\n",
       "    <tr>\n",
       "      <th>6</th>\n",
       "      <td>social_media</td>\n",
       "      <td>technology</td>\n",
       "      <td>0</td>\n",
       "      <td>51283.0</td>\n",
       "      <td>NaN</td>\n",
       "      <td>middle_east</td>\n",
       "      <td>2</td>\n",
       "      <td>0.57</td>\n",
       "    </tr>\n",
       "    <tr>\n",
       "      <th>7</th>\n",
       "      <td>social_media</td>\n",
       "      <td>NaN</td>\n",
       "      <td>5</td>\n",
       "      <td>62975.0</td>\n",
       "      <td>student</td>\n",
       "      <td>europe</td>\n",
       "      <td>4</td>\n",
       "      <td>0.62</td>\n",
       "    </tr>\n",
       "    <tr>\n",
       "      <th>8</th>\n",
       "      <td>referral</td>\n",
       "      <td>healthcare</td>\n",
       "      <td>4</td>\n",
       "      <td>38648.0</td>\n",
       "      <td>unemployed</td>\n",
       "      <td>south_america</td>\n",
       "      <td>2</td>\n",
       "      <td>0.86</td>\n",
       "    </tr>\n",
       "    <tr>\n",
       "      <th>9</th>\n",
       "      <td>paid_ads</td>\n",
       "      <td>other</td>\n",
       "      <td>3</td>\n",
       "      <td>59866.0</td>\n",
       "      <td>student</td>\n",
       "      <td>australia</td>\n",
       "      <td>3</td>\n",
       "      <td>0.43</td>\n",
       "    </tr>\n",
       "  </tbody>\n",
       "</table>\n",
       "</div>"
      ],
      "text/plain": [
       "    lead_source       industry  number_of_courses_viewed  annual_income  \\\n",
       "0      paid_ads            NaN                         1        79450.0   \n",
       "1  social_media         retail                         1        46992.0   \n",
       "2        events     healthcare                         5        78796.0   \n",
       "3      paid_ads         retail                         2        83843.0   \n",
       "4      referral      education                         3        85012.0   \n",
       "5        events  manufacturing                         1        59904.0   \n",
       "6  social_media     technology                         0        51283.0   \n",
       "7  social_media            NaN                         5        62975.0   \n",
       "8      referral     healthcare                         4        38648.0   \n",
       "9      paid_ads          other                         3        59866.0   \n",
       "\n",
       "  employment_status       location  interaction_count  lead_score  \n",
       "0        unemployed  south_america                  4        0.94  \n",
       "1          employed  south_america                  1        0.80  \n",
       "2        unemployed      australia                  3        0.69  \n",
       "3               NaN      australia                  1        0.87  \n",
       "4     self_employed         europe                  3        0.62  \n",
       "5               NaN         africa                  6        0.83  \n",
       "6               NaN    middle_east                  2        0.57  \n",
       "7           student         europe                  4        0.62  \n",
       "8        unemployed  south_america                  2        0.86  \n",
       "9           student      australia                  3        0.43  "
      ]
     },
     "execution_count": 19,
     "metadata": {},
     "output_type": "execute_result"
    }
   ],
   "source": [
    "# Visualize the dataset\n",
    "df.head(10)"
   ]
  },
  {
   "cell_type": "code",
   "execution_count": 16,
   "id": "1a9f5529-e7fc-4c6f-a0c0-99cdbaf591bc",
   "metadata": {},
   "outputs": [],
   "source": [
    "# Separate target\n",
    "y = df['converted']\n",
    "df = df.drop('converted', axis=1)"
   ]
  },
  {
   "cell_type": "markdown",
   "id": "656e6962-8cd3-4ef4-9817-c65b53da03b1",
   "metadata": {},
   "source": [
    "## Data Preparation\n",
    "### 1. Check for missing values"
   ]
  },
  {
   "cell_type": "code",
   "execution_count": 5,
   "id": "683a6164-4edd-48d2-b9e4-eeee0ebf35fe",
   "metadata": {},
   "outputs": [
    {
     "data": {
      "text/plain": [
       "lead_source                 128\n",
       "industry                    134\n",
       "number_of_courses_viewed      0\n",
       "annual_income               181\n",
       "employment_status           100\n",
       "location                     63\n",
       "interaction_count             0\n",
       "lead_score                    0\n",
       "dtype: int64"
      ]
     },
     "execution_count": 5,
     "metadata": {},
     "output_type": "execute_result"
    }
   ],
   "source": [
    "df.isnull().sum()"
   ]
  },
  {
   "cell_type": "markdown",
   "id": "692c557b-b834-4178-bfa6-b4f99364bc15",
   "metadata": {},
   "source": [
    "##### We observe missing values in several columns."
   ]
  },
  {
   "cell_type": "markdown",
   "id": "5ab445f4-46e2-4870-ab09-e95d1d653acc",
   "metadata": {},
   "source": [
    "### 2. Impute missing values"
   ]
  },
  {
   "cell_type": "code",
   "execution_count": 7,
   "id": "0e81fdfd-dfa7-4ef7-97cc-5afd0dff12bc",
   "metadata": {},
   "outputs": [],
   "source": [
    "# Identify categorical and numerical columns\n",
    "categorical = df.select_dtypes(include=['object']).columns.tolist()\n",
    "numerical = df.select_dtypes(exclude=['object']).columns.tolist()\n",
    "\n",
    "# Fill missing values\n",
    "df[categorical] = df[categorical].fillna('NA')\n",
    "df[numerical] = df[numerical].fillna(0.0)"
   ]
  },
  {
   "cell_type": "markdown",
   "id": "ed03cf61-85d9-4952-9afe-4b51143e87ee",
   "metadata": {},
   "source": [
    "### 3. Train/Validation/Test Split"
   ]
  },
  {
   "cell_type": "code",
   "execution_count": 8,
   "id": "2c3c6d8f-648d-498b-a471-8f68eab1f0b5",
   "metadata": {},
   "outputs": [],
   "source": [
    "df_train, df_temp, y_train, y_temp = train_test_split(\n",
    "    df, y, test_size=0.4, random_state=1, stratify=y\n",
    ")\n",
    "df_val, df_test, y_val, y_test = train_test_split(\n",
    "    df_temp, y_temp, test_size=0.5, random_state=1, stratify=y_temp\n",
    ")"
   ]
  },
  {
   "cell_type": "markdown",
   "id": "9068df40-3073-4652-a448-26fc2c6935cb",
   "metadata": {},
   "source": [
    "## Question 1: ROC AUC Feature Importance"
   ]
  },
  {
   "cell_type": "code",
   "execution_count": 9,
   "id": "607b63ec-d962-4d2b-aab1-980ddb6814b2",
   "metadata": {},
   "outputs": [
    {
     "data": {
      "text/plain": [
       "('number_of_courses_viewed', 0.7648046448539385)"
      ]
     },
     "execution_count": 9,
     "metadata": {},
     "output_type": "execute_result"
    }
   ],
   "source": [
    "numerical_features = ['lead_score', 'number_of_courses_viewed', 'interaction_count', 'annual_income']\n",
    "\n",
    "auc_scores = {}\n",
    "for col in numerical_features:\n",
    "    auc = roc_auc_score(y_train, df_train[col])\n",
    "    if auc < 0.5:\n",
    "        auc = roc_auc_score(y_train, -df_train[col])\n",
    "        auc_scores[col] = auc\n",
    "    else:\n",
    "        auc_scores[col] = auc\n",
    "\n",
    "# Find the feature with the highest AUC\n",
    "best_feature = max(auc_scores, key=auc_scores.get)\n",
    "best_feature, auc_scores[best_feature]"
   ]
  },
  {
   "cell_type": "markdown",
   "id": "0decd3a4-a2ba-4e2c-a41b-13e65d1552fa",
   "metadata": {},
   "source": [
    "## Question 2: Train Logistic Regression and Compute AUC on Validation"
   ]
  },
  {
   "cell_type": "code",
   "execution_count": 10,
   "id": "69e2d1c7-95af-49d6-b3b6-23c750df68ec",
   "metadata": {},
   "outputs": [
    {
     "data": {
      "text/plain": [
       "0.866"
      ]
     },
     "execution_count": 10,
     "metadata": {},
     "output_type": "execute_result"
    }
   ],
   "source": [
    "# Prepare data using DictVectorizer\n",
    "dv = DictVectorizer(sparse=False)\n",
    "\n",
    "train_dict = df_train.to_dict(orient='records')\n",
    "X_train = dv.fit_transform(train_dict)\n",
    "\n",
    "val_dict = df_val.to_dict(orient='records')\n",
    "X_val = dv.transform(val_dict)\n",
    "\n",
    "# Train model\n",
    "model = LogisticRegression(solver='liblinear', C=1.0, max_iter=1000)\n",
    "model.fit(X_train, y_train)\n",
    "\n",
    "# Predict probabilities\n",
    "y_pred_val = model.predict_proba(X_val)[:, 1]\n",
    "\n",
    "# Compute AUC\n",
    "auc_val = roc_auc_score(y_val, y_pred_val)\n",
    "round(auc_val, 3)"
   ]
  },
  {
   "cell_type": "markdown",
   "id": "ad42bd32-9dbc-455e-b641-b3a9eeee9388",
   "metadata": {},
   "source": [
    "## Question 3: Precision and Recall Curves"
   ]
  },
  {
   "cell_type": "code",
   "execution_count": 11,
   "id": "2e8f32c7-afa2-4a1d-9069-19591ec5ecf0",
   "metadata": {},
   "outputs": [
    {
     "data": {
      "text/plain": [
       "np.float64(0.616)"
      ]
     },
     "execution_count": 11,
     "metadata": {},
     "output_type": "execute_result"
    }
   ],
   "source": [
    "precisions, recalls, thresholds = precision_recall_curve(y_val, y_pred_val)\n",
    "\n",
    "# Find intersection point (where precision ≈ recall)\n",
    "diff = np.abs(precisions - recalls)\n",
    "idx = np.argmin(diff)\n",
    "intersection_threshold = thresholds[idx] if idx < len(thresholds) else 1.0\n",
    "\n",
    "# Round to 3 decimals\n",
    "round(intersection_threshold, 3)"
   ]
  },
  {
   "cell_type": "markdown",
   "id": "b37a75f4-e77e-4216-aae1-11d278193b90",
   "metadata": {},
   "source": [
    "## Question 4: F1 Score Maximization"
   ]
  },
  {
   "cell_type": "code",
   "execution_count": 12,
   "id": "1a57c769-6f0d-4638-bf19-8c961f7ecebe",
   "metadata": {},
   "outputs": [
    {
     "data": {
      "text/plain": [
       "np.float64(0.58)"
      ]
     },
     "execution_count": 12,
     "metadata": {},
     "output_type": "execute_result"
    }
   ],
   "source": [
    "f1_scores = []\n",
    "thresholds_f1 = np.arange(0.0, 1.01, 0.01)\n",
    "\n",
    "for t in thresholds_f1:\n",
    "    y_pred_t = (y_pred_val >= t).astype(int)\n",
    "    f1 = f1_score(y_val, y_pred_t)\n",
    "    f1_scores.append(f1)\n",
    "\n",
    "best_idx = np.argmax(f1_scores)\n",
    "best_threshold_f1 = thresholds_f1[best_idx]\n",
    "round(best_threshold_f1, 2)"
   ]
  },
  {
   "cell_type": "markdown",
   "id": "58b6ab5e-2085-46a8-9acd-5ac783146b0f",
   "metadata": {},
   "source": [
    "## Question 5: 5-Fold Cross-Validation (AUC Std Dev)"
   ]
  },
  {
   "cell_type": "code",
   "execution_count": 13,
   "id": "f63efeb7-f80e-43f3-908f-ef98e3285cb1",
   "metadata": {},
   "outputs": [
    {
     "data": {
      "text/plain": [
       "np.float64(0.0306)"
      ]
     },
     "execution_count": 13,
     "metadata": {},
     "output_type": "execute_result"
    }
   ],
   "source": [
    "df_full_train = pd.concat([df_train, df_val])\n",
    "y_full_train = pd.concat([y_train, y_val])\n",
    "\n",
    "kf = KFold(n_splits=5, shuffle=True, random_state=1)\n",
    "\n",
    "auc_scores_cv = []\n",
    "\n",
    "for train_idx, val_idx in kf.split(df_full_train):\n",
    "    df_tr = df_full_train.iloc[train_idx]\n",
    "    y_tr = y_full_train.iloc[train_idx]\n",
    "    df_vl = df_full_train.iloc[val_idx]\n",
    "    y_vl = y_full_train.iloc[val_idx]\n",
    "    \n",
    "    # Vectorize\n",
    "    dv = DictVectorizer(sparse=False)\n",
    "    X_tr = dv.fit_transform(df_tr.to_dict(orient='records'))\n",
    "    X_vl = dv.transform(df_vl.to_dict(orient='records'))\n",
    "    \n",
    "    # Train\n",
    "    model = LogisticRegression(solver='liblinear', C=1.0, max_iter=1000)\n",
    "    model.fit(X_tr, y_tr)\n",
    "    \n",
    "    # Evaluate\n",
    "    y_pred = model.predict_proba(X_vl)[:, 1]\n",
    "    auc = roc_auc_score(y_vl, y_pred)\n",
    "    auc_scores_cv.append(auc)\n",
    "\n",
    "np.std(auc_scores_cv).round(4)"
   ]
  },
  {
   "cell_type": "markdown",
   "id": "4d954d50-e77d-4d3b-b815-1b8b2eefd81f",
   "metadata": {},
   "source": [
    "## Question 6: Hyperparameter Tuning (C values)"
   ]
  },
  {
   "cell_type": "code",
   "execution_count": 14,
   "id": "9f7dcfc1-da53-47b9-9e00-b5b0fd55ad4e",
   "metadata": {},
   "outputs": [
    {
     "data": {
      "text/plain": [
       "{1e-06: (np.float64(0.553), np.float64(0.014)),\n",
       " 0.001: (np.float64(0.867), np.float64(0.019)),\n",
       " 1: (np.float64(0.826), np.float64(0.031))}"
      ]
     },
     "execution_count": 14,
     "metadata": {},
     "output_type": "execute_result"
    }
   ],
   "source": [
    "C_values = [0.000001, 0.001, 1]\n",
    "results = {}\n",
    "\n",
    "for C in C_values:\n",
    "    auc_scores = []\n",
    "    for train_idx, val_idx in kf.split(df_full_train):\n",
    "        df_tr = df_full_train.iloc[train_idx]\n",
    "        y_tr = y_full_train.iloc[train_idx]\n",
    "        df_vl = df_full_train.iloc[val_idx]\n",
    "        y_vl = y_full_train.iloc[val_idx]\n",
    "        \n",
    "        dv = DictVectorizer(sparse=False)\n",
    "        X_tr = dv.fit_transform(df_tr.to_dict(orient='records'))\n",
    "        X_vl = dv.transform(df_vl.to_dict(orient='records'))\n",
    "        \n",
    "        model = LogisticRegression(solver='liblinear', C=C, max_iter=1000)\n",
    "        model.fit(X_tr, y_tr)\n",
    "        \n",
    "        y_pred = model.predict_proba(X_vl)[:, 1]\n",
    "        auc = roc_auc_score(y_vl, y_pred)\n",
    "        auc_scores.append(auc)\n",
    "    \n",
    "    mean_auc = np.mean(auc_scores)\n",
    "    std_auc = np.std(auc_scores)\n",
    "    results[C] = (round(mean_auc, 3), round(std_auc, 3))\n",
    "\n",
    "results"
   ]
  },
  {
   "cell_type": "code",
   "execution_count": null,
   "id": "dd458963-67f2-4d4c-ad81-1f7e923f8910",
   "metadata": {},
   "outputs": [],
   "source": []
  }
 ],
 "metadata": {
  "kernelspec": {
   "display_name": "Python 3 (ipykernel)",
   "language": "python",
   "name": "python3"
  },
  "language_info": {
   "codemirror_mode": {
    "name": "ipython",
    "version": 3
   },
   "file_extension": ".py",
   "mimetype": "text/x-python",
   "name": "python",
   "nbconvert_exporter": "python",
   "pygments_lexer": "ipython3",
   "version": "3.12.1"
  }
 },
 "nbformat": 4,
 "nbformat_minor": 5
}
