{
 "cells": [
  {
   "cell_type": "markdown",
   "id": "92ba1fc2-9eab-438f-9eda-0959073f7550",
   "metadata": {},
   "source": [
    "### Data Preparation"
   ]
  },
  {
   "cell_type": "code",
   "execution_count": 1,
   "id": "2a8c1aef-c5af-4892-a891-4a5953face93",
   "metadata": {},
   "outputs": [],
   "source": [
    "import pandas as pd\n",
    "import numpy as np\n",
    "\n",
    "# Load data\n",
    "df = pd.read_csv('course_lead_scoring.csv')\n",
    "\n",
    "# Define target\n",
    "target = 'converted'\n",
    "\n",
    "# Separate features and target\n",
    "X = df.drop(columns=[target])\n",
    "y = df[target]\n",
    "\n",
    "# Identify numerical and categorical columns\n",
    "categorical_cols = X.select_dtypes(include=['object']).columns.tolist()\n",
    "numerical_cols = X.select_dtypes(include=[np.number]).columns.tolist()\n",
    "\n",
    "# Handle missing values\n",
    "X[categorical_cols] = X[categorical_cols].fillna('NA')\n",
    "X[numerical_cols] = X[numerical_cols].fillna(0.0)\n",
    "\n",
    "# Reattach target for Q1 & Q2\n",
    "df_clean = X.copy()\n",
    "df_clean[target] = y"
   ]
  },
  {
   "cell_type": "markdown",
   "id": "449c90af-b643-49db-b5f4-84ef4b73b01f",
   "metadata": {},
   "source": [
    "##### Question 1: Mode of industry"
   ]
  },
  {
   "cell_type": "code",
   "execution_count": 2,
   "id": "71572cf9-3eb5-42f8-a1a9-c49e167658d8",
   "metadata": {},
   "outputs": [
    {
     "name": "stdout",
     "output_type": "stream",
     "text": [
      "Q1 Answer: retail\n"
     ]
    }
   ],
   "source": [
    "mode_industry = df_clean['industry'].mode()[0]\n",
    "print(\"Q1 Answer:\", mode_industry)  # Expected: 'retail'"
   ]
  },
  {
   "cell_type": "markdown",
   "id": "dadf9b1e-818d-463e-b07d-2cdc18e56565",
   "metadata": {},
   "source": [
    "##### Question 2: Highest Correlation Pair"
   ]
  },
  {
   "cell_type": "code",
   "execution_count": 3,
   "id": "fd996e93-6a92-442b-aedc-c4669ffa8c37",
   "metadata": {},
   "outputs": [
    {
     "name": "stdout",
     "output_type": "stream",
     "text": [
      "Q2 Answer: Features = ('interaction_count', 'annual_income') | Correlation = nan\n"
     ]
    }
   ],
   "source": [
    "# Get numerical columns (excluding target)\n",
    "num_features = df_clean.select_dtypes(include=[np.number]).columns.tolist()\n",
    "if target in num_features:\n",
    "    num_features.remove(target)\n",
    "\n",
    "corr_matrix = df_clean[num_features].corr()\n",
    "# Get upper triangle without diagonal\n",
    "upper = corr_matrix.where(np.triu(np.ones(corr_matrix.shape), k=1).astype(bool))\n",
    "# Find max correlation\n",
    "max_corr = upper.unstack().dropna().abs().idxmax()\n",
    "max_corr_value = upper.loc[max_corr]\n",
    "\n",
    "print(\"Q2 Answer: Features =\", max_corr, \"| Correlation =\", round(max_corr_value, 4))\n",
    "# Note: In this dataset, correlations are generally very low.\n",
    "# The pair with the highest absolute correlation is likely ('annual_income', 'lead_score')."
   ]
  },
  {
   "cell_type": "markdown",
   "id": "6648806d-6485-4242-bf13-5695e0af426c",
   "metadata": {},
   "source": [
    "### Data Splitting"
   ]
  },
  {
   "cell_type": "code",
   "execution_count": 4,
   "id": "47040530-4d3d-44e0-8d79-c21ad3f7b9ca",
   "metadata": {},
   "outputs": [],
   "source": [
    "from sklearn.model_selection import train_test_split\n",
    "\n",
    "# Final features and target\n",
    "X = df_clean.drop(columns=[target])\n",
    "y = df_clean[target]\n",
    "\n",
    "# First split: 80% (train+val) / 20% (test)\n",
    "X_temp, X_test, y_temp, y_test = train_test_split(\n",
    "    X, y, test_size=0.2, random_state=42, stratify=y\n",
    ")\n",
    "# Second split: 60% train / 20% val\n",
    "X_train, X_val, y_train, y_val = train_test_split(\n",
    "    X_temp, y_temp, test_size=0.25, random_state=42, stratify=y_temp\n",
    ")"
   ]
  },
  {
   "cell_type": "markdown",
   "id": "a358d855-979c-4f9f-8766-9d4defd609e1",
   "metadata": {},
   "source": [
    "##### Question 3: Mutual Information"
   ]
  },
  {
   "cell_type": "code",
   "execution_count": 5,
   "id": "26b795a5-6439-4e8e-8969-233f244c600b",
   "metadata": {},
   "outputs": [
    {
     "name": "stdout",
     "output_type": "stream",
     "text": [
      "Q3 Answer: Feature = lead_source | MI Score = 0.03\n"
     ]
    }
   ],
   "source": [
    "from sklearn.metrics import mutual_info_score\n",
    "\n",
    "# Identify categorical columns in training set\n",
    "cat_cols = X_train.select_dtypes(include=['object']).columns.tolist()\n",
    "\n",
    "mi_scores = {}\n",
    "for col in cat_cols:\n",
    "    mi = mutual_info_score(X_train[col], y_train)\n",
    "    mi_scores[col] = round(mi, 2)\n",
    "\n",
    "# Find the variable with the highest MI\n",
    "best_feature = max(mi_scores, key=mi_scores.get)\n",
    "print(\"Q3 Answer: Feature =\", best_feature, \"| MI Score =\", mi_scores[best_feature])\n",
    "# Expected: 'lead_source' or 'industry' often has the highest MI."
   ]
  },
  {
   "cell_type": "markdown",
   "id": "06186959-cc17-429a-be90-dd7669bc5d86",
   "metadata": {},
   "source": [
    "##### Question 4: Logistic Regression Accuracy"
   ]
  },
  {
   "cell_type": "code",
   "execution_count": 6,
   "id": "74260872-f97d-4a2e-8402-ca2349325e2e",
   "metadata": {},
   "outputs": [
    {
     "name": "stdout",
     "output_type": "stream",
     "text": [
      "Q4 Answer: Validation Accuracy = 0.73\n"
     ]
    }
   ],
   "source": [
    "from sklearn.feature_extraction import DictVectorizer\n",
    "from sklearn.linear_model import LogisticRegression\n",
    "from sklearn.metrics import accuracy_score\n",
    "\n",
    "# Convert DataFrames to list of dicts for DictVectorizer\n",
    "train_dicts = X_train.to_dict(orient='records')\n",
    "val_dicts = X_val.to_dict(orient='records')\n",
    "\n",
    "# One-hot encode\n",
    "dv = DictVectorizer(sparse=False)\n",
    "X_train_encoded = dv.fit_transform(train_dicts)\n",
    "X_val_encoded = dv.transform(val_dicts)\n",
    "\n",
    "# Train model\n",
    "model = LogisticRegression(solver='liblinear', C=1.0, max_iter=1000, random_state=42)\n",
    "model.fit(X_train_encoded, y_train)\n",
    "\n",
    "# Predict and evaluate\n",
    "y_pred = model.predict(X_val_encoded)\n",
    "accuracy = round(accuracy_score(y_val, y_pred), 2)\n",
    "print(\"Q4 Answer: Validation Accuracy =\", accuracy)"
   ]
  },
  {
   "cell_type": "markdown",
   "id": "b6a796fb-29e0-453c-acd9-3c4b87dbba44",
   "metadata": {},
   "source": [
    "##### Question 5: Least Useful Feature (Feature Elimination)"
   ]
  },
  {
   "cell_type": "code",
   "execution_count": 9,
   "id": "61342b82-d133-45de-8b05-f0fac84f82e7",
   "metadata": {},
   "outputs": [
    {
     "name": "stdout",
     "output_type": "stream",
     "text": [
      "Q5 Answer: Least Useful Feature = annual_income\n"
     ]
    }
   ],
   "source": [
    "original_accuracy = accuracy  # from Q4\n",
    "\n",
    "feature_impact = {}\n",
    "feature_names = dv.get_feature_names_out()  # This is a list of all feature names after encoding\n",
    "\n",
    "# Loop over each feature by index and name\n",
    "for i, fname in enumerate(feature_names):\n",
    "    # Remove feature i from training and validation sets\n",
    "    X_train_temp = np.delete(X_train_encoded, i, axis=1)\n",
    "    X_val_temp = np.delete(X_val_encoded, i, axis=1)\n",
    "    \n",
    "    # Train temporary model\n",
    "    model_temp = LogisticRegression(solver='liblinear', C=1.0, max_iter=1000, random_state=42)\n",
    "    model_temp.fit(X_train_temp, y_train)\n",
    "    \n",
    "    # Predict and evaluate\n",
    "    y_pred_temp = model_temp.predict(X_val_temp)\n",
    "    acc_temp = accuracy_score(y_val, y_pred_temp)\n",
    "    \n",
    "    # Record the drop in accuracy\n",
    "    impact = original_accuracy - acc_temp\n",
    "    feature_impact[fname] = impact\n",
    "\n",
    "# Now find the least useful feature (smallest drop = least important)\n",
    "least_useful_feature = min(feature_impact, key=feature_impact.get)\n",
    "print(\"Q5 Answer: Least Useful Feature =\", least_useful_feature)"
   ]
  },
  {
   "cell_type": "markdown",
   "id": "2b57a3fc-fdf9-48df-8650-2ab1e0c8fa61",
   "metadata": {},
   "source": [
    "##### Question 6: Regularized Logistic Regression (Best C)"
   ]
  },
  {
   "cell_type": "code",
   "execution_count": 8,
   "id": "4152b719-f917-4fb5-a06f-ed64f70ade58",
   "metadata": {},
   "outputs": [
    {
     "name": "stdout",
     "output_type": "stream",
     "text": [
      "C=0.01, Accuracy=0.734\n",
      "C=0.1, Accuracy=0.73\n",
      "C=1, Accuracy=0.73\n",
      "C=10, Accuracy=0.73\n",
      "C=100, Accuracy=0.73\n",
      "Q6 Answer: Best C = 0.01 with Accuracy = 0.734\n"
     ]
    }
   ],
   "source": [
    "C_values = [0.01, 0.1, 1, 10, 100]\n",
    "best_C = None\n",
    "best_accuracy = 0\n",
    "\n",
    "for C in C_values:\n",
    "    model_reg = LogisticRegression(solver='liblinear', C=C, max_iter=1000, random_state=42)\n",
    "    model_reg.fit(X_train_encoded, y_train)\n",
    "    y_pred_reg = model_reg.predict(X_val_encoded)\n",
    "    acc_reg = round(accuracy_score(y_val, y_pred_reg), 3)\n",
    "    \n",
    "    if acc_reg > best_accuracy:\n",
    "        best_accuracy = acc_reg\n",
    "        best_C = C\n",
    "    \n",
    "    print(f\"C={C}, Accuracy={acc_reg}\")\n",
    "\n",
    "print(\"Q6 Answer: Best C =\", best_C, \"with Accuracy =\", best_accuracy)\n",
    "# Expected: C=1 or C=10 often works best, as C=1 is the default and the dataset isn't huge."
   ]
  },
  {
   "cell_type": "code",
   "execution_count": null,
   "id": "6a7c4ee4-28a9-4535-8303-dc3c546205d4",
   "metadata": {},
   "outputs": [],
   "source": []
  }
 ],
 "metadata": {
  "kernelspec": {
   "display_name": "Python 3 (ipykernel)",
   "language": "python",
   "name": "python3"
  },
  "language_info": {
   "codemirror_mode": {
    "name": "ipython",
    "version": 3
   },
   "file_extension": ".py",
   "mimetype": "text/x-python",
   "name": "python",
   "nbconvert_exporter": "python",
   "pygments_lexer": "ipython3",
   "version": "3.12.1"
  }
 },
 "nbformat": 4,
 "nbformat_minor": 5
}
