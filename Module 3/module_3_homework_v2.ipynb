{
  "cells": [
    {
      "cell_type": "markdown",
      "id": "92ba1fc2-9eab-438f-9eda-0959073f7550",
      "metadata": {
        "id": "92ba1fc2-9eab-438f-9eda-0959073f7550"
      },
      "source": [
        "### Data Preparation"
      ]
    },
    {
      "cell_type": "code",
      "execution_count": 12,
      "id": "2a8c1aef-c5af-4892-a891-4a5953face93",
      "metadata": {
        "id": "2a8c1aef-c5af-4892-a891-4a5953face93"
      },
      "outputs": [],
      "source": [
        "import pandas as pd\n",
        "import numpy as np\n",
        "\n",
        "# Load data\n",
        "data = \"https://raw.githubusercontent.com/alexeygrigorev/datasets/master/course_lead_scoring.csv\"\n",
        "df = pd.read_csv(data)\n",
        "\n",
        "# Define target\n",
        "target = 'converted'\n",
        "\n",
        "# Separate features and target\n",
        "X = df.drop(columns=[target])\n",
        "y = df[target]\n",
        "\n",
        "# Identify numerical and categorical columns\n",
        "categorical_cols = X.select_dtypes(include=['object']).columns.tolist()\n",
        "numerical_cols = X.select_dtypes(include=[np.number]).columns.tolist()\n",
        "\n",
        "# Handle missing values\n",
        "X[categorical_cols] = X[categorical_cols].fillna('NA')\n",
        "X[numerical_cols] = X[numerical_cols].fillna(0.0)\n",
        "\n",
        "# Reattach target for Q1 & Q2\n",
        "df_clean = X.copy()\n",
        "df_clean[target] = y"
      ]
    },
    {
      "cell_type": "markdown",
      "id": "449c90af-b643-49db-b5f4-84ef4b73b01f",
      "metadata": {
        "id": "449c90af-b643-49db-b5f4-84ef4b73b01f"
      },
      "source": [
        "##### Question 1: Mode of industry"
      ]
    },
    {
      "cell_type": "code",
      "execution_count": 13,
      "id": "71572cf9-3eb5-42f8-a1a9-c49e167658d8",
      "metadata": {
        "colab": {
          "base_uri": "https://localhost:8080/"
        },
        "id": "71572cf9-3eb5-42f8-a1a9-c49e167658d8",
        "outputId": "483583cf-05b4-4fc4-ee92-302156b7b675"
      },
      "outputs": [
        {
          "output_type": "stream",
          "name": "stdout",
          "text": [
            "Q1 Answer: retail\n"
          ]
        }
      ],
      "source": [
        "mode_industry = df_clean['industry'].mode()[0]\n",
        "print(\"Q1 Answer:\", mode_industry)  # Expected: 'retail'"
      ]
    },
    {
      "cell_type": "markdown",
      "id": "dadf9b1e-818d-463e-b07d-2cdc18e56565",
      "metadata": {
        "id": "dadf9b1e-818d-463e-b07d-2cdc18e56565"
      },
      "source": [
        "##### Question 2: Highest Correlation Pair"
      ]
    },
    {
      "cell_type": "code",
      "execution_count": 14,
      "id": "fd996e93-6a92-442b-aedc-c4669ffa8c37",
      "metadata": {
        "colab": {
          "base_uri": "https://localhost:8080/"
        },
        "id": "fd996e93-6a92-442b-aedc-c4669ffa8c37",
        "outputId": "b80a77fa-6dcb-4e73-b34e-1bf58b70d24e"
      },
      "outputs": [
        {
          "output_type": "stream",
          "name": "stdout",
          "text": [
            "Q2 Answer: Features = ('interaction_count', 'annual_income') | Correlation = nan\n"
          ]
        }
      ],
      "source": [
        "# Get numerical columns (excluding target)\n",
        "num_features = df_clean.select_dtypes(include=[np.number]).columns.tolist()\n",
        "if target in num_features:\n",
        "    num_features.remove(target)\n",
        "\n",
        "corr_matrix = df_clean[num_features].corr()\n",
        "# Get upper triangle without diagonal\n",
        "upper = corr_matrix.where(np.triu(np.ones(corr_matrix.shape), k=1).astype(bool))\n",
        "# Find max correlation\n",
        "max_corr = upper.unstack().dropna().abs().idxmax()\n",
        "max_corr_value = upper.loc[max_corr]\n",
        "\n",
        "print(\"Q2 Answer: Features =\", max_corr, \"| Correlation =\", round(max_corr_value, 4))\n",
        "# Note: In this dataset, correlations are generally very low.\n",
        "# The pair with the highest absolute correlation is likely ('annual_income', 'lead_score')."
      ]
    },
    {
      "cell_type": "markdown",
      "id": "6648806d-6485-4242-bf13-5695e0af426c",
      "metadata": {
        "id": "6648806d-6485-4242-bf13-5695e0af426c"
      },
      "source": [
        "### Data Splitting"
      ]
    },
    {
      "cell_type": "code",
      "execution_count": 15,
      "id": "47040530-4d3d-44e0-8d79-c21ad3f7b9ca",
      "metadata": {
        "id": "47040530-4d3d-44e0-8d79-c21ad3f7b9ca"
      },
      "outputs": [],
      "source": [
        "from sklearn.model_selection import train_test_split\n",
        "\n",
        "# Final features and target\n",
        "X = df_clean.drop(columns=[target])\n",
        "y = df_clean[target]\n",
        "\n",
        "# First split: 80% (train+val) / 20% (test)\n",
        "X_temp, X_test, y_temp, y_test = train_test_split(\n",
        "    X, y, test_size=0.2, random_state=42, stratify=y\n",
        ")\n",
        "# Second split: 60% train / 20% val\n",
        "X_train, X_val, y_train, y_val = train_test_split(\n",
        "    X_temp, y_temp, test_size=0.25, random_state=42, stratify=y_temp\n",
        ")"
      ]
    },
    {
      "cell_type": "markdown",
      "id": "a358d855-979c-4f9f-8766-9d4defd609e1",
      "metadata": {
        "id": "a358d855-979c-4f9f-8766-9d4defd609e1"
      },
      "source": [
        "##### Question 3: Mutual Information"
      ]
    },
    {
      "cell_type": "code",
      "execution_count": 16,
      "id": "26b795a5-6439-4e8e-8969-233f244c600b",
      "metadata": {
        "colab": {
          "base_uri": "https://localhost:8080/"
        },
        "id": "26b795a5-6439-4e8e-8969-233f244c600b",
        "outputId": "d628515b-0dd7-4268-af82-a4249b24ba08"
      },
      "outputs": [
        {
          "output_type": "stream",
          "name": "stdout",
          "text": [
            "Q3 Answer: Feature = lead_source | MI Score = 0.03\n"
          ]
        }
      ],
      "source": [
        "from sklearn.metrics import mutual_info_score\n",
        "\n",
        "# Identify categorical columns in training set\n",
        "cat_cols = X_train.select_dtypes(include=['object']).columns.tolist()\n",
        "\n",
        "mi_scores = {}\n",
        "for col in cat_cols:\n",
        "    mi = mutual_info_score(X_train[col], y_train)\n",
        "    mi_scores[col] = round(mi, 2)\n",
        "\n",
        "# Find the variable with the highest MI\n",
        "best_feature = max(mi_scores, key=mi_scores.get)\n",
        "print(\"Q3 Answer: Feature =\", best_feature, \"| MI Score =\", mi_scores[best_feature])\n",
        "# Expected: 'lead_source' or 'industry' often has the highest MI."
      ]
    },
    {
      "cell_type": "markdown",
      "id": "06186959-cc17-429a-be90-dd7669bc5d86",
      "metadata": {
        "id": "06186959-cc17-429a-be90-dd7669bc5d86"
      },
      "source": [
        "##### Question 4: Logistic Regression Accuracy"
      ]
    },
    {
      "cell_type": "code",
      "execution_count": 17,
      "id": "74260872-f97d-4a2e-8402-ca2349325e2e",
      "metadata": {
        "colab": {
          "base_uri": "https://localhost:8080/"
        },
        "id": "74260872-f97d-4a2e-8402-ca2349325e2e",
        "outputId": "ffb7a421-45d7-408d-ec47-ffce3f9a79fe"
      },
      "outputs": [
        {
          "output_type": "stream",
          "name": "stdout",
          "text": [
            "Q4 Answer: Validation Accuracy = 0.73\n"
          ]
        }
      ],
      "source": [
        "from sklearn.feature_extraction import DictVectorizer\n",
        "from sklearn.linear_model import LogisticRegression\n",
        "from sklearn.metrics import accuracy_score\n",
        "\n",
        "# Convert DataFrames to list of dicts for DictVectorizer\n",
        "train_dicts = X_train.to_dict(orient='records')\n",
        "val_dicts = X_val.to_dict(orient='records')\n",
        "\n",
        "# One-hot encode\n",
        "dv = DictVectorizer(sparse=False)\n",
        "X_train_encoded = dv.fit_transform(train_dicts)\n",
        "X_val_encoded = dv.transform(val_dicts)\n",
        "\n",
        "# Train model\n",
        "model = LogisticRegression(solver='liblinear', C=1.0, max_iter=1000, random_state=42)\n",
        "model.fit(X_train_encoded, y_train)\n",
        "\n",
        "# Predict and evaluate\n",
        "y_pred = model.predict(X_val_encoded)\n",
        "accuracy = round(accuracy_score(y_val, y_pred), 2)\n",
        "print(\"Q4 Answer: Validation Accuracy =\", accuracy)"
      ]
    },
    {
      "cell_type": "markdown",
      "id": "b6a796fb-29e0-453c-acd9-3c4b87dbba44",
      "metadata": {
        "id": "b6a796fb-29e0-453c-acd9-3c4b87dbba44"
      },
      "source": [
        "##### Question 5: Least Useful Feature (Feature Elimination)"
      ]
    },
    {
      "cell_type": "code",
      "source": [
        "# One-hot encode full feature set\n",
        "def encode_features(X_train, X_val, features_to_drop=None):\n",
        "    X_train_copy = X_train.copy()\n",
        "    X_val_copy = X_val.copy()\n",
        "\n",
        "    if features_to_drop:\n",
        "        X_train_copy = X_train_copy.drop(columns=features_to_drop)\n",
        "        X_val_copy = X_val_copy.drop(columns=features_to_drop)\n",
        "\n",
        "    train_dicts = X_train_copy.to_dict(orient='records')\n",
        "    val_dicts = X_val_copy.to_dict(orient='records')\n",
        "\n",
        "    dv = DictVectorizer(sparse=False)\n",
        "    X_train_enc = dv.fit_transform(train_dicts)\n",
        "    X_val_enc = dv.transform(val_dicts)\n",
        "\n",
        "    return X_train_enc, X_val_enc, dv\n",
        "\n",
        "# Baseline model (all features)\n",
        "X_train_full, X_val_full, dv_full = encode_features(X_train, X_val)\n",
        "model_full = LogisticRegression(solver='liblinear', C=1.0, max_iter=1000, random_state=42)\n",
        "model_full.fit(X_train_full, y_train)\n",
        "y_pred_full = model_full.predict(X_val_full)\n",
        "acc_full = accuracy_score(y_val, y_pred_full)\n",
        "\n",
        "print(f\"Baseline accuracy: {acc_full:.4f}\")\n",
        "\n",
        "# Evaluate drop for each candidate feature\n",
        "candidate_features = ['industry', 'employment_status', 'lead_score']\n",
        "impact = {}\n",
        "\n",
        "for feat in candidate_features:\n",
        "    # Ensure feature exists in data\n",
        "    if feat not in X_train.columns:\n",
        "        print(f\"Warning: {feat} not in dataset\")\n",
        "        continue\n",
        "\n",
        "    X_train_sub, X_val_sub, _ = encode_features(X_train, X_val, features_to_drop=[feat])\n",
        "    model_sub = LogisticRegression(solver='liblinear', C=1.0, max_iter=1000, random_state=42)\n",
        "    model_sub.fit(X_train_sub, y_train)\n",
        "    y_pred_sub = model_sub.predict(X_val_sub)\n",
        "    acc_sub = accuracy_score(y_val, y_pred_sub)\n",
        "\n",
        "    drop = acc_full - acc_sub\n",
        "    impact[feat] = drop\n",
        "    print(f\"Feature: {feat} | Accuracy without it: {acc_sub:.4f} | Drop: {drop:.4f}\")\n",
        "\n",
        "# Find feature with smallest drop (least useful)\n",
        "least_useful = min(impact, key=impact.get)\n",
        "print(f\"\\nAnswer: The least useful feature is '{least_useful}'\")"
      ],
      "metadata": {
        "colab": {
          "base_uri": "https://localhost:8080/"
        },
        "id": "rjeepnrlb3rA",
        "outputId": "f0d506c9-9d40-4298-a70f-228db85e4119"
      },
      "id": "rjeepnrlb3rA",
      "execution_count": 18,
      "outputs": [
        {
          "output_type": "stream",
          "name": "stdout",
          "text": [
            "Baseline accuracy: 0.7304\n",
            "Feature: industry | Accuracy without it: 0.7304 | Drop: 0.0000\n",
            "Feature: employment_status | Accuracy without it: 0.7338 | Drop: -0.0034\n",
            "Feature: lead_score | Accuracy without it: 0.7304 | Drop: 0.0000\n",
            "\n",
            "Answer: The least useful feature is 'employment_status'\n"
          ]
        }
      ]
    },
    {
      "cell_type": "markdown",
      "id": "2b57a3fc-fdf9-48df-8650-2ab1e0c8fa61",
      "metadata": {
        "id": "2b57a3fc-fdf9-48df-8650-2ab1e0c8fa61"
      },
      "source": [
        "##### Question 6: Regularized Logistic Regression (Best C)"
      ]
    },
    {
      "cell_type": "code",
      "execution_count": 19,
      "id": "4152b719-f917-4fb5-a06f-ed64f70ade58",
      "metadata": {
        "colab": {
          "base_uri": "https://localhost:8080/"
        },
        "id": "4152b719-f917-4fb5-a06f-ed64f70ade58",
        "outputId": "d5298be2-e7fd-464e-b84e-855bbe23645e"
      },
      "outputs": [
        {
          "output_type": "stream",
          "name": "stdout",
          "text": [
            "C=0.01, Accuracy=0.734\n",
            "C=0.1, Accuracy=0.73\n",
            "C=1, Accuracy=0.73\n",
            "C=10, Accuracy=0.73\n",
            "C=100, Accuracy=0.73\n",
            "Q6 Answer: Best C = 0.01 with Accuracy = 0.734\n"
          ]
        }
      ],
      "source": [
        "C_values = [0.01, 0.1, 1, 10, 100]\n",
        "best_C = None\n",
        "best_accuracy = 0\n",
        "\n",
        "for C in C_values:\n",
        "    model_reg = LogisticRegression(solver='liblinear', C=C, max_iter=1000, random_state=42)\n",
        "    model_reg.fit(X_train_encoded, y_train)\n",
        "    y_pred_reg = model_reg.predict(X_val_encoded)\n",
        "    acc_reg = round(accuracy_score(y_val, y_pred_reg), 3)\n",
        "\n",
        "    if acc_reg > best_accuracy:\n",
        "        best_accuracy = acc_reg\n",
        "        best_C = C\n",
        "\n",
        "    print(f\"C={C}, Accuracy={acc_reg}\")\n",
        "\n",
        "print(\"Q6 Answer: Best C =\", best_C, \"with Accuracy =\", best_accuracy)\n",
        "# Expected: C=1 or C=10 often works best, as C=1 is the default and the dataset isn't huge."
      ]
    },
    {
      "cell_type": "code",
      "execution_count": 19,
      "id": "6a7c4ee4-28a9-4535-8303-dc3c546205d4",
      "metadata": {
        "id": "6a7c4ee4-28a9-4535-8303-dc3c546205d4"
      },
      "outputs": [],
      "source": []
    }
  ],
  "metadata": {
    "kernelspec": {
      "display_name": "Python 3 (ipykernel)",
      "language": "python",
      "name": "python3"
    },
    "language_info": {
      "codemirror_mode": {
        "name": "ipython",
        "version": 3
      },
      "file_extension": ".py",
      "mimetype": "text/x-python",
      "name": "python",
      "nbconvert_exporter": "python",
      "pygments_lexer": "ipython3",
      "version": "3.12.1"
    },
    "colab": {
      "provenance": []
    }
  },
  "nbformat": 4,
  "nbformat_minor": 5
}